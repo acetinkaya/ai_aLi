{
  "nbformat": 4,
  "nbformat_minor": 0,
  "metadata": {
    "colab": {
      "provenance": []
    },
    "kernelspec": {
      "name": "python3",
      "display_name": "Python 3"
    },
    "language_info": {
      "name": "python"
    }
  },
  "cells": [
    {
      "cell_type": "markdown",
      "source": [
        "YAPAY ZEKA dersinin Google Colab bağlantı ayarlarının yapıldığı kod bölümüdür.\n",
        "\n",
        "Bu kod ile bağlantıları sağlayıp drive dosya bölümüne bağlantı sağlanmaktadır.\n",
        "\n",
        "Python programlama dilinde;\n",
        "\n",
        "\"print\" komutu ekrandan kullancıya bilgi veren bir koddur.\n",
        "\"import\" komutu ile yazılıma kütüphane dahil etme işlemleri gerçekleştirilir.\n",
        "\n",
        "YAPAY ZEKA dersi ilk kodlama çıktısıdır.\n",
        "\n",
        "İGÜ - Öğr. Gör. Ali ÇETİNKAYA - 2024"
      ],
      "metadata": {
        "id": "yiUUbQg1iEZM"
      }
    },
    {
      "cell_type": "code",
      "source": [
        "print(\"Merhaba, İGÜ - YAPAY ZEKA\") # print ekrana çıktı veren bir koddur.\n"
      ],
      "metadata": {
        "colab": {
          "base_uri": "https://localhost:8080/"
        },
        "id": "RP6UuOwQXdsV",
        "outputId": "1a388794-eae4-4ac4-fea7-9f2865c731f7"
      },
      "execution_count": null,
      "outputs": [
        {
          "output_type": "stream",
          "name": "stdout",
          "text": [
            "Merhaba, İGÜ - YAPAY ZEKA\n"
          ]
        }
      ]
    },
    {
      "cell_type": "code",
      "source": [
        "import sys # import python programlama dilinde yazılıma kütüphane eklemeye yarayan bir kod blogudur.\n",
        "print(sys.version)"
      ],
      "metadata": {
        "colab": {
          "base_uri": "https://localhost:8080/"
        },
        "id": "5Q1dDgIhiUhM",
        "outputId": "7949fcc5-89b4-4426-9ec2-92b5854f7cf2"
      },
      "execution_count": null,
      "outputs": [
        {
          "output_type": "stream",
          "name": "stdout",
          "text": [
            "3.10.12 (main, Jul 29 2024, 16:56:48) [GCC 11.4.0]\n"
          ]
        }
      ]
    },
    {
      "cell_type": "code",
      "source": [
        "from google.colab import drive # google colab - drive bağlantısı\n",
        "\n",
        "drive.mount('/content/drive')"
      ],
      "metadata": {
        "colab": {
          "base_uri": "https://localhost:8080/"
        },
        "id": "FfRAEHRdiWhP",
        "outputId": "4d181500-335d-4a28-cdaf-9077b22596af"
      },
      "execution_count": null,
      "outputs": [
        {
          "output_type": "stream",
          "name": "stdout",
          "text": [
            "Mounted at /content/drive\n"
          ]
        }
      ]
    },
    {
      "cell_type": "code",
      "source": [
        "import os\n",
        "\n",
        "os.chdir('/content/drive/My Drive/YAPAYZEKA_PYTHON')\n",
        "\n",
        "!pwd # bize kodun çıktısını dosya yolu olarak veren kod blogudur."
      ],
      "metadata": {
        "colab": {
          "base_uri": "https://localhost:8080/"
        },
        "id": "ncOFKFsniXnZ",
        "outputId": "1af384e6-67f1-4c96-b96f-94e89a6957de"
      },
      "execution_count": null,
      "outputs": [
        {
          "output_type": "stream",
          "name": "stdout",
          "text": [
            "/content/drive/My Drive/YAPAYZEKA_PYTHON\n"
          ]
        }
      ]
    }
  ]
}