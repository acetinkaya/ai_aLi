{
  "nbformat": 4,
  "nbformat_minor": 0,
  "metadata": {
    "colab": {
      "provenance": []
    },
    "kernelspec": {
      "name": "python3",
      "display_name": "Python 3"
    },
    "language_info": {
      "name": "python"
    }
  },
  "cells": [
    {
      "cell_type": "markdown",
      "source": [
        "YAPAY ZEKA dersinin Google Colab bağlantı ayarlarının yapıldığı kod bölümüdür.\n",
        "\n",
        "Bu kod ile bağlantıları sağlayıp drive dosya bölümüne bağlantı sağlanmaktadır.\n",
        "\n",
        "Python programlama dilinde;\n",
        "\n",
        "\"print\" komutu ekrandan kullancıya bilgi veren bir koddur.\n",
        "\"import\" komutu ile yazılıma kütüphane dahil etme işlemleri gerçekleştirilir.\n",
        "\n",
        "YAPAY ZEKA dersi ilk kodlama çıktısıdır.\n",
        "\n",
        "İGÜ - Öğr. Gör. Ali ÇETİNKAYA - 2024"
      ],
      "metadata": {
        "id": "yiUUbQg1iEZM"
      }
    },
    {
      "cell_type": "code",
      "source": [
        "print(\"Merhaba, İGÜ - YAPAY ZEKA\") # print ekrana çıktı veren bir koddur.\n"
      ],
      "metadata": {
        "colab": {
          "base_uri": "https://localhost:8080/"
        },
        "id": "RP6UuOwQXdsV",
        "outputId": "af0fe2e2-1835-4b38-ae57-69ec3becc59d"
      },
      "execution_count": 1,
      "outputs": [
        {
          "output_type": "stream",
          "name": "stdout",
          "text": [
            "Merhaba, İGÜ - YAPAY ZEKA\n"
          ]
        }
      ]
    },
    {
      "cell_type": "code",
      "source": [
        "import sys # import python programlama dilinde yazılıma kütüphane eklemeye yarayan bir kod blogudur.\n",
        "print(sys.version)"
      ],
      "metadata": {
        "colab": {
          "base_uri": "https://localhost:8080/"
        },
        "id": "5Q1dDgIhiUhM",
        "outputId": "e98e57c1-1954-4b54-e2d7-c809a667ed85"
      },
      "execution_count": 2,
      "outputs": [
        {
          "output_type": "stream",
          "name": "stdout",
          "text": [
            "3.10.12 (main, Sep 11 2024, 15:47:36) [GCC 11.4.0]\n"
          ]
        }
      ]
    },
    {
      "cell_type": "code",
      "source": [
        "from google.colab import drive # google colab - drive bağlantısı\n",
        "\n",
        "drive.mount('/content/drive')"
      ],
      "metadata": {
        "colab": {
          "base_uri": "https://localhost:8080/"
        },
        "id": "FfRAEHRdiWhP",
        "outputId": "1ad4cfd7-e615-4499-de3e-02a3bbef85ee"
      },
      "execution_count": 3,
      "outputs": [
        {
          "output_type": "stream",
          "name": "stdout",
          "text": [
            "Mounted at /content/drive\n"
          ]
        }
      ]
    },
    {
      "cell_type": "code",
      "source": [
        "import os\n",
        "\n",
        "os.chdir('/content/drive/My Drive/YAPAYZEKA_PYTHON')\n",
        "\n",
        "!pwd # bize kodun çıktısını dosya yolu olarak veren kod blogudur."
      ],
      "metadata": {
        "colab": {
          "base_uri": "https://localhost:8080/"
        },
        "id": "Z9VYykbcQOy5",
        "outputId": "c1f0ba38-6770-4281-fa8d-3f4b99746b59"
      },
      "execution_count": null,
      "outputs": [
        {
          "output_type": "stream",
          "name": "stdout",
          "text": [
            "/content/drive/My Drive/YAPAYZEKA_PYTHON\n"
          ]
        }
      ]
    }
  ]
}